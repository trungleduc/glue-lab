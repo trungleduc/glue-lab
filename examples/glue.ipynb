{
 "cells": [
  {
   "cell_type": "code",
   "execution_count": null,
   "id": "cd666ccf-b37a-4af4-bd95-071084b91cc7",
   "metadata": {},
   "outputs": [],
   "source": [
    "import glue_jupyter as gj\n",
    "app = gj.jglue()\n",
    "data_image = app.load_data('examples/w5.fits')"
   ]
  },
  {
   "cell_type": "code",
   "execution_count": null,
   "id": "9bad5d31-8a07-4a58-8af3-2cc5a0faed62",
   "metadata": {},
   "outputs": [],
   "source": [
    "data_catalog = app.load_data('examples/w5_psc.csv')"
   ]
  },
  {
   "cell_type": "code",
   "execution_count": null,
   "id": "658549e9-a832-4edf-ae62-fe484f7ea627",
   "metadata": {},
   "outputs": [],
   "source": [
    "scatter_viewer = app.scatter2d(x='[4.5]-[5.8]', y='[8.0]', data=data_catalog)"
   ]
  },
  {
   "cell_type": "code",
   "execution_count": null,
   "id": "a0d1a762-dd08-46da-a367-67cf9af15f8b",
   "metadata": {},
   "outputs": [],
   "source": [
    "scatter_viewer = app.scatter2d(x='[4.5]-[5.8]', y='[8.0]', data=data_catalog)"
   ]
  },
  {
   "cell_type": "code",
   "execution_count": null,
   "id": "557387f9-bc61-470a-9d7f-6dfdf9da7f9c",
   "metadata": {},
   "outputs": [],
   "source": []
  },
  {
   "cell_type": "code",
   "execution_count": null,
   "id": "fd9392fc-5342-4453-969b-dd3b871d9437",
   "metadata": {},
   "outputs": [],
   "source": [
    "\n",
    "w = Widget(comm_metadata=dict(ymodel_name=\"GlueSession\",create_ydoc=False,path=path))\n",
    "document = ydocs.get('glu')(w._ydoc)\n",
    "document._yattributes.to_json()"
   ]
  },
  {
   "cell_type": "code",
   "execution_count": null,
   "id": "3aabc245-3625-4111-bee8-d7d23bc5803f",
   "metadata": {},
   "outputs": [],
   "source": [
    "document._yattributes.to_json()"
   ]
  },
  {
   "cell_type": "code",
   "execution_count": 34,
   "id": "19fd1e1b-dc60-466b-954c-4e5040612795",
   "metadata": {},
   "outputs": [],
   "source": [
    "from ypywidgets import Widget\n",
    "from jupyter_ydoc import ydocs\n",
    "import y_py as Y\n",
    "import asyncio\n",
    "\n",
    "class SharedGlueSession:\n",
    "    def __init__(self, path: str):\n",
    "        self.initialized = False\n",
    "        self._sessionYDoc = Y.YDoc()\n",
    "        \n",
    "        self._document = ydocs.get('glu')(self._sessionYDoc)\n",
    "        self._document.observe(self._on_document_change)\n",
    "        self._ywidget = Widget(comm_metadata=dict(ymodel_name=\"GlueSession\",create_ydoc=False,path=path),ydoc=self._sessionYDoc)\n",
    "        # sel f._sessionYDoc.observe_after_transaction(self.send_message)\n",
    "        shared._ywidget._comm.on_msg(self.send_message)\n",
    "    \n",
    "    def send_message(self, msg):\n",
    "        0/0\n",
    "        print(self.initialized, self._document._ytabs.to_json())\n",
    "        if self.initialized:\n",
    "            with self._sessionYDoc.begin_transaction() as t:\n",
    "                self._document._yprivate_messages.update(t, {'inilialized': True}.items() )\n",
    "            self.initialized = False\n",
    "        \n",
    "        \n",
    "    def _on_document_change(self, target, event):\n",
    "        print('target', target)\n",
    "        if target == 'contents':\n",
    "            self.initialized = True\n",
    "\n",
    "                           "
   ]
  },
  {
   "cell_type": "code",
   "execution_count": 35,
   "id": "0b8117a7-82b9-4284-8cb3-87e02318b03c",
   "metadata": {},
   "outputs": [],
   "source": [
    "path = 'examples/session.glu'\n",
    "shared = SharedGlueSession(path)\n",
    "\n"
   ]
  },
  {
   "cell_type": "code",
   "execution_count": 27,
   "id": "333b8ae3-1329-4006-bd73-7e441745be44",
   "metadata": {},
   "outputs": [
    {
     "data": {
      "text/plain": [
       "<ipykernel.comm.comm.BaseComm at 0x7f308984fd90>"
      ]
     },
     "execution_count": 27,
     "metadata": {},
     "output_type": "execute_result"
    }
   ],
   "source": []
  },
  {
   "cell_type": "code",
   "execution_count": null,
   "id": "e66a6991-931f-4748-97a9-f1c419b59b7b",
   "metadata": {},
   "outputs": [],
   "source": []
  },
  {
   "cell_type": "code",
   "execution_count": 5,
   "id": "b0d9bc80-618f-45b0-b071-7e7f30c0e41f",
   "metadata": {},
   "outputs": [
    {
     "data": {
      "text/plain": [
       "'{}'"
      ]
     },
     "execution_count": 5,
     "metadata": {},
     "output_type": "execute_result"
    }
   ],
   "source": []
  },
  {
   "cell_type": "code",
   "execution_count": null,
   "id": "9a4ad079-68ef-46f7-a541-fc2371bb0ad4",
   "metadata": {},
   "outputs": [],
   "source": []
  }
 ],
 "metadata": {
  "kernelspec": {
   "display_name": "Python 3 (ipykernel)",
   "language": "python",
   "name": "python3"
  },
  "language_info": {
   "codemirror_mode": {
    "name": "ipython",
    "version": 3
   },
   "file_extension": ".py",
   "mimetype": "text/x-python",
   "name": "python",
   "nbconvert_exporter": "python",
   "pygments_lexer": "ipython3",
   "version": "3.10.9"
  }
 },
 "nbformat": 4,
 "nbformat_minor": 5
}
